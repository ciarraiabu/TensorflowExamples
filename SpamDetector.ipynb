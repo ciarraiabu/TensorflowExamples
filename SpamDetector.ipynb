{
 "cells": [
  {
   "cell_type": "code",
   "execution_count": 1,
   "id": "55133d97",
   "metadata": {},
   "outputs": [],
   "source": [
    "import pandas as pd\n",
    "import numpy as np\n",
    "import tensorflow as tf\n",
    "from tensorflow.keras.preprocessing.text import Tokenizer\n",
    "from tensorflow.keras.preprocessing.sequence import pad_sequences\n",
    "from tensorflow.keras.models import Sequential\n",
    "import matplotlib.pyplot as plt"
   ]
  },
  {
   "cell_type": "code",
   "execution_count": 2,
   "id": "e5fdf84d",
   "metadata": {},
   "outputs": [
    {
     "data": {
      "text/html": [
       "<div>\n",
       "<style scoped>\n",
       "    .dataframe tbody tr th:only-of-type {\n",
       "        vertical-align: middle;\n",
       "    }\n",
       "\n",
       "    .dataframe tbody tr th {\n",
       "        vertical-align: top;\n",
       "    }\n",
       "\n",
       "    .dataframe thead th {\n",
       "        text-align: right;\n",
       "    }\n",
       "</style>\n",
       "<table border=\"1\" class=\"dataframe\">\n",
       "  <thead>\n",
       "    <tr style=\"text-align: right;\">\n",
       "      <th></th>\n",
       "      <th>Category</th>\n",
       "      <th>Message</th>\n",
       "    </tr>\n",
       "  </thead>\n",
       "  <tbody>\n",
       "    <tr>\n",
       "      <th>0</th>\n",
       "      <td>ham</td>\n",
       "      <td>Go until jurong point, crazy.. Available only ...</td>\n",
       "    </tr>\n",
       "    <tr>\n",
       "      <th>1</th>\n",
       "      <td>ham</td>\n",
       "      <td>Ok lar... Joking wif u oni...</td>\n",
       "    </tr>\n",
       "    <tr>\n",
       "      <th>2</th>\n",
       "      <td>spam</td>\n",
       "      <td>Free entry in 2 a wkly comp to win FA Cup fina...</td>\n",
       "    </tr>\n",
       "    <tr>\n",
       "      <th>3</th>\n",
       "      <td>ham</td>\n",
       "      <td>U dun say so early hor... U c already then say...</td>\n",
       "    </tr>\n",
       "    <tr>\n",
       "      <th>4</th>\n",
       "      <td>ham</td>\n",
       "      <td>Nah I don't think he goes to usf, he lives aro...</td>\n",
       "    </tr>\n",
       "  </tbody>\n",
       "</table>\n",
       "</div>"
      ],
      "text/plain": [
       "  Category                                            Message\n",
       "0      ham  Go until jurong point, crazy.. Available only ...\n",
       "1      ham                      Ok lar... Joking wif u oni...\n",
       "2     spam  Free entry in 2 a wkly comp to win FA Cup fina...\n",
       "3      ham  U dun say so early hor... U c already then say...\n",
       "4      ham  Nah I don't think he goes to usf, he lives aro..."
      ]
     },
     "execution_count": 2,
     "metadata": {},
     "output_type": "execute_result"
    }
   ],
   "source": [
    "df = pd.read_csv('Downloads/spam.csv')\n",
    "df.head()"
   ]
  },
  {
   "cell_type": "code",
   "execution_count": 3,
   "id": "2ac54939",
   "metadata": {},
   "outputs": [
    {
     "data": {
      "text/plain": [
       "ham     4825\n",
       "spam     747\n",
       "Name: Category, dtype: int64"
      ]
     },
     "execution_count": 3,
     "metadata": {},
     "output_type": "execute_result"
    }
   ],
   "source": [
    "cat=df[\"Category\"].value_counts()\n",
    "cat"
   ]
  },
  {
   "cell_type": "code",
   "execution_count": 4,
   "id": "d221e32c",
   "metadata": {},
   "outputs": [],
   "source": [
    "#convert labels to numerical values\n",
    "df['label'] = df['Category'].apply(lambda rating : 1 if rating !='spam' else 0)"
   ]
  },
  {
   "cell_type": "code",
   "execution_count": 5,
   "id": "9da4e98e",
   "metadata": {},
   "outputs": [],
   "source": [
    "sentences = df['Message'].tolist()\n",
    "labels = df['label'].tolist()"
   ]
  },
  {
   "cell_type": "code",
   "execution_count": 6,
   "id": "0b53300e",
   "metadata": {},
   "outputs": [],
   "source": [
    "# Separate out the sentences and labels into training and test sets\n",
    "training_size = int(len(sentences) * 0.8)"
   ]
  },
  {
   "cell_type": "code",
   "execution_count": 7,
   "id": "2f46820c",
   "metadata": {},
   "outputs": [],
   "source": [
    "training_sentences = sentences[0:training_size]\n",
    "testing_sentences = sentences[training_size:]\n",
    "training_labels = labels[0:training_size]\n",
    "testing_labels = labels[training_size:]"
   ]
  },
  {
   "cell_type": "code",
   "execution_count": 8,
   "id": "d261bd00",
   "metadata": {},
   "outputs": [],
   "source": [
    "# Make labels into numpy arrays for use with the network later\n",
    "training_labels_final = np.array(training_labels)\n",
    "testing_labels_final = np.array(testing_labels)"
   ]
  },
  {
   "cell_type": "code",
   "execution_count": 9,
   "id": "d4e73aa0",
   "metadata": {},
   "outputs": [],
   "source": [
    "#the data is tokenized- a unique number is assigned to each word\n",
    "#vocabulary size of 1,000 with a maximum length of 100\n",
    "vocab_size = 1000\n",
    "embedding_dim = 16\n",
    "max_length = 100\n",
    "trunc_type='post'\n",
    "padding_type='post'\n",
    "oov_tok = \"<OOV>\""
   ]
  },
  {
   "cell_type": "code",
   "execution_count": 10,
   "id": "9e98bc20",
   "metadata": {},
   "outputs": [],
   "source": [
    "tokenizer = Tokenizer(num_words = vocab_size, oov_token=oov_tok)\n",
    "tokenizer.fit_on_texts(training_sentences)\n",
    "word_index = tokenizer.word_index"
   ]
  },
  {
   "cell_type": "code",
   "execution_count": 11,
   "id": "5d3858de",
   "metadata": {},
   "outputs": [],
   "source": [
    "#the tokens are sorted into sequences to ensure they are in the correct order\n",
    "sequences = tokenizer.texts_to_sequences(training_sentences)"
   ]
  },
  {
   "cell_type": "code",
   "execution_count": 12,
   "id": "55f6d461",
   "metadata": {},
   "outputs": [],
   "source": [
    "padded = pad_sequences(sequences,maxlen=max_length, padding=padding_type, truncating=trunc_type)"
   ]
  },
  {
   "cell_type": "code",
   "execution_count": 13,
   "id": "4cb59dd2",
   "metadata": {},
   "outputs": [
    {
     "name": "stdout",
     "output_type": "stream",
     "text": [
      "ok lar <OOV> wif u <OOV> ? ? ? ? ? ? ? ? ? ? ? ? ? ? ? ? ? ? ? ? ? ? ? ? ? ? ? ? ? ? ? ? ? ? ? ? ? ? ? ? ? ? ? ? ? ? ? ? ? ? ? ? ? ? ? ? ? ? ? ? ? ? ? ? ? ? ? ? ? ? ? ? ? ? ? ? ? ? ? ? ? ? ? ? ? ? ? ? ? ? ? ? ? ?\n",
      "Ok lar... Joking wif u oni...\n"
     ]
    }
   ],
   "source": [
    "reverse_word_index = dict([(value, key) for (key, value) in word_index.items()])\n",
    "\n",
    "def decode_review(text):\n",
    "    return ' '.join([reverse_word_index.get(i, '?') for i in text])\n",
    "\n",
    "print(decode_review(padded[1]))\n",
    "print(training_sentences[1])"
   ]
  },
  {
   "cell_type": "code",
   "execution_count": 14,
   "id": "2d557511",
   "metadata": {},
   "outputs": [],
   "source": [
    "#padding introduces 0's at the end of each sentence for when sentences are longer than each other\n",
    "testing_sequences = tokenizer.texts_to_sequences(testing_sentences)\n",
    "testing_padded = pad_sequences(testing_sequences,maxlen=max_length, padding=padding_type, truncating=trunc_type)"
   ]
  },
  {
   "cell_type": "code",
   "execution_count": 15,
   "id": "91a6df59",
   "metadata": {},
   "outputs": [
    {
     "name": "stdout",
     "output_type": "stream",
     "text": [
      "Model: \"sequential\"\n",
      "_________________________________________________________________\n",
      " Layer (type)                Output Shape              Param #   \n",
      "=================================================================\n",
      " embedding (Embedding)       (None, 100, 16)           16000     \n",
      "                                                                 \n",
      " flatten (Flatten)           (None, 1600)              0         \n",
      "                                                                 \n",
      " dense (Dense)               (None, 6)                 9606      \n",
      "                                                                 \n",
      " dense_1 (Dense)             (None, 1)                 7         \n",
      "                                                                 \n",
      "=================================================================\n",
      "Total params: 25,613\n",
      "Trainable params: 25,613\n",
      "Non-trainable params: 0\n",
      "_________________________________________________________________\n"
     ]
    }
   ],
   "source": [
    "#flatten is used to reduce multidimensional tensors to a one-dimensional tensor\n",
    "model = tf.keras.Sequential([\n",
    "    tf.keras.layers.Embedding(vocab_size, embedding_dim, input_length=max_length),\n",
    "    tf.keras.layers.Flatten(),\n",
    "    tf.keras.layers.Dense(6, activation='relu'),\n",
    "    tf.keras.layers.Dense(1, activation='sigmoid')\n",
    "])\n",
    "model.compile(loss='binary_crossentropy',optimizer='adam',metrics=['accuracy'])\n",
    "model.summary()"
   ]
  },
  {
   "cell_type": "code",
   "execution_count": 16,
   "id": "28269a5c",
   "metadata": {},
   "outputs": [
    {
     "name": "stdout",
     "output_type": "stream",
     "text": [
      "Epoch 1/30\n",
      "140/140 [==============================] - 1s 5ms/step - loss: 0.3222 - accuracy: 0.8640 - val_loss: 0.1759 - val_accuracy: 0.8700\n",
      "Epoch 2/30\n",
      "140/140 [==============================] - 0s 3ms/step - loss: 0.1623 - accuracy: 0.9334 - val_loss: 0.1391 - val_accuracy: 0.9767\n",
      "Epoch 3/30\n",
      "140/140 [==============================] - 0s 3ms/step - loss: 0.1192 - accuracy: 0.9787 - val_loss: 0.0639 - val_accuracy: 0.9785\n",
      "Epoch 4/30\n",
      "140/140 [==============================] - 0s 3ms/step - loss: 0.0445 - accuracy: 0.9877 - val_loss: 0.0513 - val_accuracy: 0.9821\n",
      "Epoch 5/30\n",
      "140/140 [==============================] - 0s 3ms/step - loss: 0.0311 - accuracy: 0.9910 - val_loss: 0.0513 - val_accuracy: 0.9830\n",
      "Epoch 6/30\n",
      "140/140 [==============================] - 0s 3ms/step - loss: 0.0244 - accuracy: 0.9930 - val_loss: 0.0495 - val_accuracy: 0.9865\n",
      "Epoch 7/30\n",
      "140/140 [==============================] - 0s 3ms/step - loss: 0.0191 - accuracy: 0.9951 - val_loss: 0.0529 - val_accuracy: 0.9857\n",
      "Epoch 8/30\n",
      "140/140 [==============================] - 0s 3ms/step - loss: 0.0160 - accuracy: 0.9964 - val_loss: 0.0527 - val_accuracy: 0.9857\n",
      "Epoch 9/30\n",
      "140/140 [==============================] - 0s 3ms/step - loss: 0.0131 - accuracy: 0.9978 - val_loss: 0.0552 - val_accuracy: 0.9865\n",
      "Epoch 10/30\n",
      "140/140 [==============================] - 0s 3ms/step - loss: 0.0113 - accuracy: 0.9982 - val_loss: 0.0604 - val_accuracy: 0.9857\n",
      "Epoch 11/30\n",
      "140/140 [==============================] - 0s 3ms/step - loss: 0.0096 - accuracy: 0.9980 - val_loss: 0.0599 - val_accuracy: 0.9848\n",
      "Epoch 12/30\n",
      "140/140 [==============================] - 0s 3ms/step - loss: 0.0083 - accuracy: 0.9987 - val_loss: 0.0655 - val_accuracy: 0.9865\n",
      "Epoch 13/30\n",
      "140/140 [==============================] - 0s 3ms/step - loss: 0.0069 - accuracy: 0.9987 - val_loss: 0.0672 - val_accuracy: 0.9874\n",
      "Epoch 14/30\n",
      "140/140 [==============================] - 0s 3ms/step - loss: 0.0061 - accuracy: 0.9987 - val_loss: 0.0713 - val_accuracy: 0.9865\n",
      "Epoch 15/30\n",
      "140/140 [==============================] - 0s 3ms/step - loss: 0.0052 - accuracy: 0.9987 - val_loss: 0.0739 - val_accuracy: 0.9874\n",
      "Epoch 16/30\n",
      "140/140 [==============================] - 0s 3ms/step - loss: 0.0041 - accuracy: 0.9989 - val_loss: 0.0803 - val_accuracy: 0.9839\n",
      "Epoch 17/30\n",
      "140/140 [==============================] - 0s 3ms/step - loss: 0.0046 - accuracy: 0.9991 - val_loss: 0.0766 - val_accuracy: 0.9848\n",
      "Epoch 18/30\n",
      "140/140 [==============================] - 0s 3ms/step - loss: 0.0036 - accuracy: 0.9991 - val_loss: 0.0799 - val_accuracy: 0.9874\n",
      "Epoch 19/30\n",
      "140/140 [==============================] - 0s 3ms/step - loss: 0.0032 - accuracy: 0.9991 - val_loss: 0.0835 - val_accuracy: 0.9848\n",
      "Epoch 20/30\n",
      "140/140 [==============================] - 0s 3ms/step - loss: 0.0034 - accuracy: 0.9989 - val_loss: 0.0866 - val_accuracy: 0.9848\n",
      "Epoch 21/30\n",
      "140/140 [==============================] - 0s 3ms/step - loss: 0.0027 - accuracy: 0.9991 - val_loss: 0.0874 - val_accuracy: 0.9785\n",
      "Epoch 22/30\n",
      "140/140 [==============================] - 0s 3ms/step - loss: 0.0028 - accuracy: 0.9989 - val_loss: 0.0851 - val_accuracy: 0.9857\n",
      "Epoch 23/30\n",
      "140/140 [==============================] - 0s 3ms/step - loss: 0.0025 - accuracy: 0.9989 - val_loss: 0.0885 - val_accuracy: 0.9865\n",
      "Epoch 24/30\n",
      "140/140 [==============================] - 0s 3ms/step - loss: 0.0029 - accuracy: 0.9989 - val_loss: 0.0900 - val_accuracy: 0.9848\n",
      "Epoch 25/30\n",
      "140/140 [==============================] - 0s 3ms/step - loss: 0.0025 - accuracy: 0.9989 - val_loss: 0.0913 - val_accuracy: 0.9839\n",
      "Epoch 26/30\n",
      "140/140 [==============================] - 0s 3ms/step - loss: 0.0024 - accuracy: 0.9989 - val_loss: 0.0933 - val_accuracy: 0.9839\n",
      "Epoch 27/30\n",
      "140/140 [==============================] - 0s 3ms/step - loss: 0.0020 - accuracy: 0.9993 - val_loss: 0.0946 - val_accuracy: 0.9848\n",
      "Epoch 28/30\n",
      "140/140 [==============================] - 0s 3ms/step - loss: 0.0024 - accuracy: 0.9989 - val_loss: 0.0971 - val_accuracy: 0.9839\n",
      "Epoch 29/30\n",
      "140/140 [==============================] - 0s 3ms/step - loss: 0.0025 - accuracy: 0.9984 - val_loss: 0.0923 - val_accuracy: 0.9857\n",
      "Epoch 30/30\n",
      "140/140 [==============================] - 0s 3ms/step - loss: 0.0023 - accuracy: 0.9989 - val_loss: 0.0943 - val_accuracy: 0.9848\n",
      "dict_keys(['loss', 'accuracy', 'val_loss', 'val_accuracy'])\n"
     ]
    },
    {
     "data": {
      "image/png": "[encoded data removed]",
      "text/plain": [
       "<Figure size 432x288 with 1 Axes>"
      ]
     },
     "metadata": {
      "needs_background": "light"
     },
     "output_type": "display_data"
    }
   ],
   "source": [
    "num_epochs = 30\n",
    "history=model.fit(padded, training_labels_final, epochs=num_epochs, validation_data=(testing_padded, testing_labels_final))\n",
    "\n",
    "# list all data in history\n",
    "print(history.history.keys())\n",
    "# summarize history for accuracy\n",
    "plt.plot(history.history['loss'])\n",
    "plt.plot(history.history['val_loss'])\n",
    "plt.title('model loss')\n",
    "plt.ylabel('loss')\n",
    "plt.xlabel('epoch')\n",
    "plt.legend(['train', 'val'], loc='upper left')\n",
    "plt.show()"
   ]
  },
  {
   "cell_type": "code",
   "execution_count": 17,
   "id": "53029ce2",
   "metadata": {},
   "outputs": [
    {
     "name": "stdout",
     "output_type": "stream",
     "text": [
      "(1000, 16)\n"
     ]
    }
   ],
   "source": [
    "# First get the weights of the embedding layer\n",
    "e = model.layers[0]\n",
    "weights = e.get_weights()[0]\n",
    "print(weights.shape) # shape: (vocab_size, embedding_dim)"
   ]
  },
  {
   "cell_type": "code",
   "execution_count": 18,
   "id": "4d9e6add",
   "metadata": {},
   "outputs": [],
   "source": [
    "import io\n",
    "\n",
    "# Write out the embedding vectors and metadata\n",
    "out_v = io.open('vecs.tsv', 'w', encoding='utf-8')\n",
    "out_m = io.open('meta.tsv', 'w', encoding='utf-8')\n",
    "for word_num in range(1, vocab_size):\n",
    "  word = reverse_word_index[word_num]\n",
    "  embeddings = weights[word_num]\n",
    "  out_m.write(word + \"\\n\")\n",
    "  out_v.write('\\t'.join([str(x) for x in embeddings]) + \"\\n\")\n",
    "out_v.close()\n",
    "out_m.close()"
   ]
  },
  {
   "cell_type": "code",
   "execution_count": 19,
   "id": "d66f2136",
   "metadata": {},
   "outputs": [
    {
     "name": "stdout",
     "output_type": "stream",
     "text": [
      "['Meadhbh, can you text back once you get this?', 'Congrats on your new iPhone! Click here to claim your prize...', 'How are you feeling?', 'Did you hear the people sing?', 'Attend this data science course today: Book your session now...']\n",
      "Meadhbh, can you text back once you get this?\n",
      "[0.9999515]\n",
      "\n",
      "\n",
      "Congrats on your new iPhone! Click here to claim your prize...\n",
      "[0.01143718]\n",
      "\n",
      "\n",
      "How are you feeling?\n",
      "[0.9999151]\n",
      "\n",
      "\n",
      "Did you hear the people sing?\n",
      "[0.9994391]\n",
      "\n",
      "\n",
      "Attend this data science course today: Book your session now...\n",
      "[0.8075272]\n",
      "\n",
      "\n"
     ]
    }
   ],
   "source": [
    "# Use the model to predict whether a message is spam\n",
    "text_messages = ['Meadhbh, can you text back once you get this?',\n",
    "                'Congrats on your new iPhone! Click here to claim your prize...', \n",
    "                'How are you feeling?',\n",
    "                'Did you hear the people sing?',\n",
    "                'Attend this data science course today: Book your session now...']\n",
    "\n",
    "print(text_messages) \n",
    "\n",
    "# Create the sequences\n",
    "padding_type='post'\n",
    "sample_sequences = tokenizer.texts_to_sequences(text_messages)\n",
    "fakes_padded = pad_sequences(sample_sequences, padding=padding_type, maxlen=max_length)           \n",
    "\n",
    "classes = model.predict(fakes_padded)\n",
    "\n",
    "# The closer the class is to 1, the more likely that the message is spam\n",
    "for x in range(len(text_messages)):\n",
    "  print(text_messages[x])\n",
    "  print(classes[x])\n",
    "  print('\\n')"
   ]
  }
 ],
 "metadata": {
  "kernelspec": {
   "display_name": "Python 3",
   "language": "python",
   "name": "python3"
  },
  "language_info": {
   "codemirror_mode": {
    "name": "ipython",
    "version": 3
   },
   "file_extension": ".py",
   "mimetype": "text/x-python",
   "name": "python",
   "nbconvert_exporter": "python",
   "pygments_lexer": "ipython3",
   "version": "3.8.8"
  }
 },
 "nbformat": 4,
 "nbformat_minor": 5
}
